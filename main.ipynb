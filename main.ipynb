{
 "cells": [
  {
   "cell_type": "code",
   "execution_count": null,
   "metadata": {},
   "outputs": [],
   "source": [
    "# Install packages\n",
    "%pip install networkx\n",
    "%pip install numpy\n",
    "%pip install tqdm\n",
    "%pip install matplotlib"
   ]
  },
  {
   "cell_type": "code",
   "execution_count": null,
   "metadata": {},
   "outputs": [],
   "source": [
    "# The starter code is short and simple, take a look!\n",
    "from starter import *"
   ]
  },
  {
   "cell_type": "markdown",
   "metadata": {},
   "source": [
    "# Phase 1 - Create Inputs"
   ]
  },
  {
   "cell_type": "code",
   "execution_count": null,
   "metadata": {},
   "outputs": [],
   "source": [
    "# Add edges with G.add_edge(u, v, weight=w)\n",
    "# Idea: consider making the inputs with a solution in mind, \n",
    "# such that you know the solution when the outputs are released\n",
    "\n",
    "def small(G: nx.Graph):\n",
    "    # TODO add edges to complete the small input\n",
    "    pass\n",
    "    \n",
    "def medium(G: nx.Graph):\n",
    "    # TODO add edges to complete the medium input\n",
    "    pass\n",
    "    \n",
    "def large(G: nx.Graph):\n",
    "    # TODO add edges to complete the large input\n",
    "    pass"
   ]
  },
  {
   "cell_type": "code",
   "execution_count": null,
   "metadata": {},
   "outputs": [],
   "source": [
    "G = nx.empty_graph(N_SMALL)\n",
    "small(G)\n",
    "write_input(G, 'small.in')\n",
    "\n",
    "G = nx.empty_graph(N_MEDIUM)\n",
    "medium(G)\n",
    "write_input(G, 'medium.in')\n",
    "\n",
    "G = nx.empty_graph(N_LARGE)\n",
    "large(G)\n",
    "write_input(G, 'large.in')"
   ]
  },
  {
   "cell_type": "markdown",
   "metadata": {},
   "source": [
    "# Phase 2 - Implement your Solver"
   ]
  },
  {
   "cell_type": "code",
   "execution_count": null,
   "metadata": {},
   "outputs": [],
   "source": [
    "def solve(G: nx.Graph):\n",
    "    # Assign a team to v with G.nodes[v]['team'] = team_id\n",
    "    # Access the team of v with team_id = G.nodes[v]['team']\n",
    "    G_intermediate = G\n",
    "    num_nodes = len(G.nodes)\n",
    "    num_teams = 2\n",
    "    teams = [1, 2]\n",
    " \n",
    "    # Partition first half to team 1\n",
    "    for u in range(num_nodes//2):\n",
    "        G.nodes[u]['team'] = 1\n",
    " \n",
    "    # Partition first half to team 2\n",
    "    for v in range(num_nodes//2, num_nodes):\n",
    "        G.nodes[v]['team'] = 2\n",
    " \n",
    "    unmarked = set(list(G.nodes))\n",
    "    gains = []\n",
    "    while len(unmarked) != 0:\n",
    "        best_cost = float('inf')\n",
    "        swap_pair = None\n",
    "        for u in unmarked:\n",
    "            for team in range(num_teams):\n",
    "                cost_if_swapped = cost(G_intermediate, u, team)\n",
    "                if cost_if_swapped < best_cost:\n",
    "                    swap_pair = (u, team, cost_if_swapped)\n",
    "                    best_cost = cost_if_swapped\n",
    "        G_intermediate = swap(G_intermediate, swap_pair[0], swap_pair[1])\n",
    "        unmarked.remove(swap_pair[0])\n",
    "        gains.append(swap_pair)\n",
    " \n",
    "    smallest_swap_score = min(gains, key=lambda x: x[2])\n",
    " \n",
    "    for v, team, swap_score in gains:\n",
    "        G = swap(G, v, team)\n",
    "        if swap_score == smallest_swap_score:\n",
    "            break\n",
    "    return G"
   ]
  },
  {
   "cell_type": "code",
   "execution_count": null,
   "metadata": {},
   "outputs": [],
   "source": [
    "G = read_input('small.in')\n",
    "solve(G)\n",
    "validate_output(G)\n",
    "visualize(G)\n",
    "score(G)"
   ]
  },
  {
   "cell_type": "code",
   "execution_count": null,
   "metadata": {},
   "outputs": [],
   "source": [
    "run(solve, 'small.in', 'small.out')"
   ]
  },
  {
   "cell_type": "code",
   "execution_count": null,
   "metadata": {},
   "outputs": [],
   "source": [
    "run_all(solve, 'input', 'output')\n",
    "tar('output')"
   ]
  }
 ],
 "metadata": {
  "kernelspec": {
   "display_name": "Python 3.11.0 64-bit",
   "language": "python",
   "name": "python3"
  },
  "language_info": {
   "codemirror_mode": {
    "name": "ipython",
    "version": 3
   },
   "file_extension": ".py",
   "mimetype": "text/x-python",
   "name": "python",
   "nbconvert_exporter": "python",
   "pygments_lexer": "ipython3",
   "version": "3.11.0"
  },
  "vscode": {
   "interpreter": {
    "hash": "1024fc1c84d9d393894ff0ae508183bc66ab1dc33e63cfc602fbbf4a77e727ad"
   }
  }
 },
 "nbformat": 4,
 "nbformat_minor": 1
}
